{
 "cells": [
  {
   "cell_type": "code",
   "execution_count": 2,
   "metadata": {},
   "outputs": [],
   "source": [
    "import torch\n",
    "import jax\n",
    "from jax import numpy as jnp"
   ]
  },
  {
   "cell_type": "code",
   "execution_count": 11,
   "metadata": {},
   "outputs": [
    {
     "data": {
      "text/plain": [
       "Array([[ True,  True,  True],\n",
       "       [ True,  True,  True],\n",
       "       [ True,  True,  True]], dtype=bool)"
      ]
     },
     "execution_count": 11,
     "metadata": {},
     "output_type": "execute_result"
    }
   ],
   "source": [
    "#Prove that the transpose of the transpose of a matrix is the matrix itself: \n",
    "v = jnp.ones((3,3))\n",
    "v.T.T == v"
   ]
  },
  {
   "cell_type": "code",
   "execution_count": 16,
   "metadata": {},
   "outputs": [
    {
     "data": {
      "text/plain": [
       "tensor([[True, True, True],\n",
       "        [True, True, True],\n",
       "        [True, True, True]])"
      ]
     },
     "execution_count": 16,
     "metadata": {},
     "output_type": "execute_result"
    }
   ],
   "source": [
    "# Given two matrices and , show that sum and transposition commute\n",
    "A = torch.randn((3,3))\n",
    "B = torch.randn((3,3))\n",
    "\n",
    "A.T + B.T == (A+B).T"
   ]
  },
  {
   "cell_type": "code",
   "execution_count": 18,
   "metadata": {},
   "outputs": [
    {
     "data": {
      "text/plain": [
       "tensor([[True, True, True],\n",
       "        [True, True, True],\n",
       "        [True, True, True]])"
      ]
     },
     "execution_count": 18,
     "metadata": {},
     "output_type": "execute_result"
    }
   ],
   "source": [
    "# Given any square matrix ,A+A.T is always symmetric? Can you prove the result by using only the results of the previous two exercises\n",
    "A + A.T  == (A + A.T).T"
   ]
  },
  {
   "cell_type": "code",
   "execution_count": 19,
   "metadata": {},
   "outputs": [
    {
     "data": {
      "text/plain": [
       "2"
      ]
     },
     "execution_count": 19,
     "metadata": {},
     "output_type": "execute_result"
    }
   ],
   "source": [
    "# We defined the tensor X of shape (2, 3, 4) in this section. What is the output of len(X)? Write your answer without implementing any code, then check your answer using code.\n",
    "X = torch.arange(24).reshape(2, 3, 4)\n",
    "len(X)"
   ]
  },
  {
   "cell_type": "code",
   "execution_count": 20,
   "metadata": {},
   "outputs": [
    {
     "ename": "RuntimeError",
     "evalue": "The size of tensor a (3) must match the size of tensor b (2) at non-singleton dimension 1",
     "output_type": "error",
     "traceback": [
      "\u001b[0;31m---------------------------------------------------------------------------\u001b[0m",
      "\u001b[0;31mRuntimeError\u001b[0m                              Traceback (most recent call last)",
      "Cell \u001b[0;32mIn[20], line 2\u001b[0m\n\u001b[1;32m      1\u001b[0m \u001b[38;5;66;03m# Run A / A.sum(axis=1) and see what happens. Can you analyze the results?\u001b[39;00m\n\u001b[0;32m----> 2\u001b[0m \u001b[43mX\u001b[49m\u001b[38;5;241;43m/\u001b[39;49m\u001b[43mX\u001b[49m\u001b[38;5;241;43m.\u001b[39;49m\u001b[43msum\u001b[49m\u001b[43m(\u001b[49m\u001b[43maxis\u001b[49m\u001b[38;5;241;43m=\u001b[39;49m\u001b[38;5;241;43m1\u001b[39;49m\u001b[43m)\u001b[49m\n",
      "\u001b[0;31mRuntimeError\u001b[0m: The size of tensor a (3) must match the size of tensor b (2) at non-singleton dimension 1"
     ]
    }
   ],
   "source": [
    "# Run A / A.sum(axis=1) and see what happens. Can you analyze the results?\n",
    "X/X.sum(axis=1)\n"
   ]
  },
  {
   "cell_type": "code",
   "execution_count": 23,
   "metadata": {},
   "outputs": [
    {
     "name": "stdout",
     "output_type": "stream",
     "text": [
      "0 torch.Size([3, 4])\n",
      "1 torch.Size([2, 4])\n",
      "2 torch.Size([2, 3])\n"
     ]
    }
   ],
   "source": [
    "for i in range(3):\n",
    "    print(i, X.sum(axis=i).shape)"
   ]
  },
  {
   "cell_type": "code",
   "execution_count": 25,
   "metadata": {},
   "outputs": [
    {
     "data": {
      "text/plain": [
       "tensor(3.4255)"
      ]
     },
     "execution_count": 25,
     "metadata": {},
     "output_type": "execute_result"
    }
   ],
   "source": [
    "# Feed a tensor with three or more axes to the linalg.norm function and observe its output\n",
    "torch.norm(A)"
   ]
  },
  {
   "cell_type": "code",
   "execution_count": 3,
   "metadata": {},
   "outputs": [
    {
     "name": "stdout",
     "output_type": "stream",
     "text": [
      "Memory difference: 1.67578125 megabytes\n",
      "time taken: 0.003594636917114258\n",
      "******\n",
      "Memory difference: 0.69921875 megabytes\n",
      "time taken: 0.0004830360412597656\n"
     ]
    }
   ],
   "source": [
    "import os\n",
    "import psutil\n",
    "import time\n",
    "import gc\n",
    "\n",
    "def process_memory():\n",
    "    process = psutil.Process(os.getpid())\n",
    "    mem_info = process.memory_info()\n",
    "    return mem_info.rss\n",
    "\n",
    "    \n",
    "\n",
    "A = torch.randn((2**5, 2**8))\n",
    "B = torch.randn((2**8, 2**5))\n",
    "C = torch.randn((2**5, 2**8))\n",
    "\n",
    "mem_before = process_memory()\n",
    "start = time.time()\n",
    "y = (A@B)@C\n",
    "mem_after = process_memory()\n",
    "mem_diff = mem_after - mem_before\n",
    "exec_time = time.time() - start\n",
    "print(f\"Memory difference: {mem_diff/(1024*1024)} megabytes\")\n",
    "print(f\"time taken: {exec_time}\")\n",
    "del A\n",
    "gc.collect()\n",
    "print(\"******\")\n",
    "A = torch.randn((2**5, 2**8))\n",
    "B = torch.randn((2**8, 2**5))\n",
    "C = torch.randn((2**5, 2**8))\n",
    "mem_before = process_memory()\n",
    "start = time.time()\n",
    "y = A@(B@C)\n",
    "mem_after = process_memory()\n",
    "mem_diff = mem_after - mem_before\n",
    "exec_time = time.time() - start\n",
    "\n",
    "print(f\"Memory difference: {mem_diff/(1024*1024)} megabytes\")\n",
    "print(f\"time taken: {exec_time}\")\n"
   ]
  },
  {
   "cell_type": "code",
   "execution_count": 4,
   "metadata": {},
   "outputs": [
    {
     "data": {
      "text/plain": [
       "tensor([[ 22.3466, -13.7510, -27.3286,  ...,   4.7721, -31.7303,  -0.4962],\n",
       "        [-16.2436,  24.1385,  -1.9065,  ...,   0.7895, -29.1300, -12.5318],\n",
       "        [ -6.5032,  -0.1007,   9.3973,  ...,  -3.2985,   6.1022,  31.3605],\n",
       "        ...,\n",
       "        [  3.9329,  23.5765,  -3.7415,  ..., -36.2057,  14.8663,  13.6330],\n",
       "        [ -3.1952,   0.5317, -21.2134,  ...,  -9.1665,   0.1057,  -1.2638],\n",
       "        [ -6.9737, -11.0558,   9.9862,  ...,   6.5451,   9.3291,  -1.1995]])"
      ]
     },
     "execution_count": 4,
     "metadata": {},
     "output_type": "execute_result"
    }
   ],
   "source": [
    "A@B"
   ]
  },
  {
   "cell_type": "code",
   "execution_count": 5,
   "metadata": {},
   "outputs": [
    {
     "data": {
      "text/plain": [
       "(torch.Size([32, 256]), torch.Size([256, 32]))"
      ]
     },
     "execution_count": 5,
     "metadata": {},
     "output_type": "execute_result"
    }
   ],
   "source": [
    "A.shape, C.T.shape"
   ]
  },
  {
   "cell_type": "code",
   "execution_count": 6,
   "metadata": {},
   "outputs": [
    {
     "data": {
      "text/plain": [
       "tensor([[ 10.0090,  -1.9095, -16.0520,  ...,  -8.7113,  27.4236, -28.6053],\n",
       "        [ -4.7046,   5.9514,   7.5451,  ..., -17.4480,  32.9090,  11.2259],\n",
       "        [-10.6740,  10.3164,  25.5560,  ...,   6.7556,  -0.5554,  21.3093],\n",
       "        ...,\n",
       "        [ -2.7766,  -1.9944, -30.3462,  ..., -20.4943,  21.3764, -11.1675],\n",
       "        [-35.3743, -15.2393,  14.1361,  ...,   7.3302,   5.9985,  -5.1945],\n",
       "        [ -3.4585,   3.0254,  10.4838,  ..., -15.5326,   3.5561,  -4.9475]])"
      ]
     },
     "execution_count": 6,
     "metadata": {},
     "output_type": "execute_result"
    }
   ],
   "source": [
    "A@C.T"
   ]
  },
  {
   "cell_type": "code",
   "execution_count": null,
   "metadata": {},
   "outputs": [],
   "source": []
  }
 ],
 "metadata": {
  "kernelspec": {
   "display_name": "appdev",
   "language": "python",
   "name": "python3"
  },
  "language_info": {
   "codemirror_mode": {
    "name": "ipython",
    "version": 3
   },
   "file_extension": ".py",
   "mimetype": "text/x-python",
   "name": "python",
   "nbconvert_exporter": "python",
   "pygments_lexer": "ipython3",
   "version": "3.9.13"
  }
 },
 "nbformat": 4,
 "nbformat_minor": 2
}
